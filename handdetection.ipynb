{
  "nbformat": 4,
  "nbformat_minor": 0,
  "metadata": {
    "colab": {
      "name": "handdetection.ipynb",
      "provenance": [],
      "collapsed_sections": [],
      "authorship_tag": "ABX9TyNyL3MUrIVXnUIjGkz9xVvC",
      "include_colab_link": true
    },
    "kernelspec": {
      "name": "python3",
      "display_name": "Python 3"
    },
    "accelerator": "GPU"
  },
  "cells": [
    {
      "cell_type": "markdown",
      "metadata": {
        "id": "view-in-github",
        "colab_type": "text"
      },
      "source": [
        "<a href=\"https://colab.research.google.com/github/ClearSpear/cameramouse/blob/master/handdetection.ipynb\" target=\"_parent\"><img src=\"https://colab.research.google.com/assets/colab-badge.svg\" alt=\"Open In Colab\"/></a>"
      ]
    },
    {
      "cell_type": "markdown",
      "metadata": {
        "id": "46ViX6GhAKIT",
        "colab_type": "text"
      },
      "source": [
        "## Mount Google Drive to save files"
      ]
    },
    {
      "cell_type": "code",
      "metadata": {
        "id": "HhvB1OQzAMQ-",
        "colab_type": "code",
        "colab": {}
      },
      "source": [
        "from google.colab import drive\n",
        "drive.mount('/content/gdrive')"
      ],
      "execution_count": null,
      "outputs": []
    },
    {
      "cell_type": "code",
      "metadata": {
        "id": "Q4WaqqzHAZ6C",
        "colab_type": "code",
        "colab": {}
      },
      "source": [
        "%cd '/content/gdrive/My Drive/Stanford/EE292D/project/colab'"
      ],
      "execution_count": null,
      "outputs": []
    },
    {
      "cell_type": "markdown",
      "metadata": {
        "id": "jvaACkJHBmlM",
        "colab_type": "text"
      },
      "source": [
        "## Check remaining time on colab session:"
      ]
    },
    {
      "cell_type": "code",
      "metadata": {
        "id": "5YDQQ5hkBZCs",
        "colab_type": "code",
        "colab": {}
      },
      "source": [
        "import time, psutil\n",
        "Start = time.time()- psutil.boot_time()\n",
        "Left= 12*3600 - Start\n",
        "print('Time remaining for this session is: ', Left/3600)"
      ],
      "execution_count": null,
      "outputs": []
    },
    {
      "cell_type": "markdown",
      "metadata": {
        "id": "4Y1QRWgBAolP",
        "colab_type": "text"
      },
      "source": [
        "## Download TF object detection API"
      ]
    },
    {
      "cell_type": "code",
      "metadata": {
        "id": "JMY-NX6t_2iI",
        "colab_type": "code",
        "colab": {}
      },
      "source": [
        "%tensorflow_version 1.x"
      ],
      "execution_count": null,
      "outputs": []
    },
    {
      "cell_type": "code",
      "metadata": {
        "id": "ERyy5HdcADkj",
        "colab_type": "code",
        "colab": {}
      },
      "source": [
        "import tensorflow as tf\n",
        "device_name = tf.test.gpu_device_name()\n",
        "if device_name != '/device:GPU:0':\n",
        "   raise SystemError('GPU device not found')\n",
        "print('Found GPU at: {}'.format(device_name))\n",
        "print(tf.__version__)"
      ],
      "execution_count": null,
      "outputs": []
    },
    {
      "cell_type": "code",
      "metadata": {
        "id": "Lm01eGFGLChZ",
        "colab_type": "code",
        "colab": {}
      },
      "source": [
        "tf.enable_eager_execution()"
      ],
      "execution_count": null,
      "outputs": []
    },
    {
      "cell_type": "code",
      "metadata": {
        "id": "5LgkL8VsAryJ",
        "colab_type": "code",
        "colab": {}
      },
      "source": [
        "!git clone https://github.com/tensorflow/models.git"
      ],
      "execution_count": null,
      "outputs": []
    },
    {
      "cell_type": "code",
      "metadata": {
        "id": "K2lZ6-3vA2sf",
        "colab_type": "code",
        "colab": {}
      },
      "source": [
        "!apt-get install protobuf-compiler python-pil python-lxml python-tk\n",
        "!pip install Cython\n",
        "!pip install tf_slim"
      ],
      "execution_count": null,
      "outputs": []
    },
    {
      "cell_type": "code",
      "metadata": {
        "id": "saZf3vfVBGBa",
        "colab_type": "code",
        "colab": {}
      },
      "source": [
        "%cd /content/gdrive/My Drive/Stanford/EE292D/project/colab/models/research/\n",
        "!protoc object_detection/protos/*.proto --python_out=."
      ],
      "execution_count": null,
      "outputs": []
    },
    {
      "cell_type": "code",
      "metadata": {
        "id": "kr99uvPHBN4V",
        "colab_type": "code",
        "colab": {}
      },
      "source": [
        "import os\n",
        "os.environ['PYTHONPATH'] += ':/content/gdrive/My Drive/Stanford/EE292D/project/colab/models/research/:/content/gdrive/My Drive/Stanford/EE292D/project/colab/models/research/slim'"
      ],
      "execution_count": null,
      "outputs": []
    },
    {
      "cell_type": "code",
      "metadata": {
        "id": "6O02B-QJBSNm",
        "colab_type": "code",
        "colab": {}
      },
      "source": [
        "!python setup.py build\n",
        "!python setup.py install"
      ],
      "execution_count": null,
      "outputs": []
    },
    {
      "cell_type": "markdown",
      "metadata": {
        "id": "9YGNJ-kiBt64",
        "colab_type": "text"
      },
      "source": [
        "Test installation was successful:"
      ]
    },
    {
      "cell_type": "code",
      "metadata": {
        "id": "o6PCmNplBwMg",
        "colab_type": "code",
        "colab": {}
      },
      "source": [
        "%cd /content/gdrive/My Drive/Stanford/EE292D/project/colab/models/research/object_detection/builders/\n",
        "!python model_builder_test.py"
      ],
      "execution_count": null,
      "outputs": []
    },
    {
      "cell_type": "markdown",
      "metadata": {
        "id": "N98WXr0o52kx",
        "colab_type": "text"
      },
      "source": [
        "## Setup to train hand detection model"
      ]
    },
    {
      "cell_type": "code",
      "metadata": {
        "id": "FN1X9C1XHYCS",
        "colab_type": "code",
        "colab": {}
      },
      "source": [
        "%cd /content/gdrive/My Drive/Stanford/EE292D/project/colab"
      ],
      "execution_count": null,
      "outputs": []
    },
    {
      "cell_type": "code",
      "metadata": {
        "id": "O8kOmwqvHwEq",
        "colab_type": "code",
        "colab": {}
      },
      "source": [
        "!wget http://download.tensorflow.org/models/object_detection/ssd_mobilenet_v1_coco_11_06_2017.tar.gz\n",
        "!tar -xvf ssd_mobilenet_v1_coco_11_06_2017.tar.gz"
      ],
      "execution_count": null,
      "outputs": []
    },
    {
      "cell_type": "code",
      "metadata": {
        "id": "XRNmRkAyKMWq",
        "colab_type": "code",
        "colab": {}
      },
      "source": [
        "%load_ext tensorboard\n",
        "%tensorboard --logdir training/"
      ],
      "execution_count": null,
      "outputs": []
    },
    {
      "cell_type": "markdown",
      "metadata": {
        "id": "7q3cKXfoLKaI",
        "colab_type": "text"
      },
      "source": [
        "## Train"
      ]
    },
    {
      "cell_type": "code",
      "metadata": {
        "id": "5DmCjKapLJjM",
        "colab_type": "code",
        "colab": {}
      },
      "source": [
        "!python models/research/object_detection/train.py --logtostderr --train_dir=training/ --pipeline_config_path=training/ssd_mobilenet_v1_coco.config"
      ],
      "execution_count": null,
      "outputs": []
    },
    {
      "cell_type": "markdown",
      "metadata": {
        "id": "ww7KJGY_9zEa",
        "colab_type": "text"
      },
      "source": [
        "## Convert saved model to frozen graph compatible with tflite"
      ]
    },
    {
      "cell_type": "code",
      "metadata": {
        "id": "xtjQWh64V8Iy",
        "colab_type": "code",
        "colab": {}
      },
      "source": [
        "H = 480\n",
        "W = 640"
      ],
      "execution_count": null,
      "outputs": []
    },
    {
      "cell_type": "code",
      "metadata": {
        "id": "e_3vSM1MA-FB",
        "colab_type": "code",
        "colab": {}
      },
      "source": [
        "!python models/research/object_detection/export_tflite_ssd_graph.py \\\n",
        "--pipeline_config_path=training/ssd_mobilenet_v1_coco.config \\\n",
        "--trained_checkpoint_prefix=training/model.ckpt-18937 \\\n",
        "--output_directory=tflite \\\n",
        "--add_postprocessing_op=true"
      ],
      "execution_count": null,
      "outputs": []
    },
    {
      "cell_type": "markdown",
      "metadata": {
        "id": "ngXVRyjG5pYv",
        "colab_type": "text"
      },
      "source": [
        "## Convert the tflite model, quantizing using the representative dataset."
      ]
    },
    {
      "cell_type": "code",
      "metadata": {
        "id": "mzEzgEwX-4GG",
        "colab_type": "code",
        "colab": {}
      },
      "source": [
        "gf = tf.GraphDef()   \n",
        "m_file = open('tflite/tflite_graph.pb','rb')\n",
        "gf.ParseFromString(m_file.read())\n",
        "\n",
        "for n in gf.node:\n",
        "    print( n.name )\n",
        "    tensor = n.op # save the input and output tensor"
      ],
      "execution_count": null,
      "outputs": []
    },
    {
      "cell_type": "code",
      "metadata": {
        "id": "CFXk5Ajo_WYV",
        "colab_type": "code",
        "colab": {}
      },
      "source": [
        "# A generator that provides a representative dataset\n",
        "def representative_data_gen():\n",
        "  dataset_list = tf.data.Dataset.list_files('egohands/train/*')\n",
        "  for i in range(100):\n",
        "    image = next(iter(dataset_list))\n",
        "    image = tf.io.read_file(image)\n",
        "    image = tf.io.decode_jpeg(image, channels=3)\n",
        "    image = tf.image.resize(image, [H, W])\n",
        "    image = tf.cast(image / 255., tf.float32)\n",
        "    image = tf.expand_dims(image, 0)\n",
        "    yield [image]\n",
        "\n",
        "input_tensors = ['normalized_input_image_tensor']\n",
        "output_tensors = ['TFLite_Detection_PostProcess','TFLite_Detection_PostProcess:1','TFLite_Detection_PostProcess:2','TFLite_Detection_PostProcess:3']\n",
        "\n",
        "converter = tf.lite.TFLiteConverter.from_frozen_graph('tflite/tflite_graph.pb', input_tensors, output_tensors, input_shapes={'normalized_input_image_tensor':[1,H,W,3]})\n",
        "converter.allow_custom_ops = True\n",
        "converter.optimizations = [tf.lite.Optimize.DEFAULT]\n",
        "#converter.target_spec.supported_ops = [tf.lite.OpsSet.TFLITE_BUILTINS_INT8]\n",
        "converter.inference_input_type = tf.uint8\n",
        "#converter.inference_output_type = tf.uint8\n",
        "converter.representative_dataset = representative_data_gen\n",
        "tflite_model = converter.convert()\n",
        "\n",
        "with open(\"converted_model.tflite\", \"wb\") as f:\n",
        "  f.write(tflite_model)"
      ],
      "execution_count": null,
      "outputs": []
    }
  ]
}